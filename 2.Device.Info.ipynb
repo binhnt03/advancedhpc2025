{
  "nbformat": 4,
  "nbformat_minor": 0,
  "metadata": {
    "colab": {
      "provenance": [],
      "gpuType": "T4"
    },
    "kernelspec": {
      "name": "python3",
      "display_name": "Python 3"
    },
    "language_info": {
      "name": "python"
    },
    "accelerator": "GPU"
  },
  "cells": [
    {
      "cell_type": "code",
      "execution_count": 1,
      "metadata": {
        "colab": {
          "base_uri": "https://localhost:8080/"
        },
        "id": "vVzlrJfknQVx",
        "outputId": "ab6dbd87-d092-4c7d-d0ca-401f4c9e1171"
      },
      "outputs": [
        {
          "output_type": "stream",
          "name": "stdout",
          "text": [
            "Requirement already satisfied: numba in /usr/local/lib/python3.12/dist-packages (0.60.0)\n",
            "Requirement already satisfied: llvmlite<0.44,>=0.43.0dev0 in /usr/local/lib/python3.12/dist-packages (from numba) (0.43.0)\n",
            "Requirement already satisfied: numpy<2.1,>=1.22 in /usr/local/lib/python3.12/dist-packages (from numba) (2.0.2)\n"
          ]
        }
      ],
      "source": [
        "!pip3 install numba"
      ]
    },
    {
      "cell_type": "code",
      "source": [
        "from numba import cuda\n",
        "\n",
        "cuda.detect()"
      ],
      "metadata": {
        "colab": {
          "base_uri": "https://localhost:8080/"
        },
        "id": "bb8tm9VVwEJl",
        "outputId": "d15a76a6-518c-413b-d8d2-e88287577624"
      },
      "execution_count": 7,
      "outputs": [
        {
          "output_type": "stream",
          "name": "stdout",
          "text": [
            "Found 1 CUDA devices\n",
            "id 0             b'Tesla T4'                              [SUPPORTED]\n",
            "                      Compute Capability: 7.5\n",
            "                           PCI Device ID: 4\n",
            "                              PCI Bus ID: 0\n",
            "                                    UUID: GPU-65c6fbe3-9da8-df49-9f7e-3f3bb55ae785\n",
            "                                Watchdog: Disabled\n",
            "             FP32/FP64 Performance Ratio: 32\n",
            "Summary:\n",
            "\t1/1 devices are supported\n"
          ]
        },
        {
          "output_type": "execute_result",
          "data": {
            "text/plain": [
              "True"
            ]
          },
          "metadata": {},
          "execution_count": 7
        }
      ]
    },
    {
      "cell_type": "code",
      "source": [
        "device = cuda.select_device(0)"
      ],
      "metadata": {
        "id": "kzUgEIQlwNCf"
      },
      "execution_count": 8,
      "outputs": []
    },
    {
      "cell_type": "code",
      "source": [
        "print(device.name)"
      ],
      "metadata": {
        "colab": {
          "base_uri": "https://localhost:8080/"
        },
        "id": "ygznbLTIwjqa",
        "outputId": "b9a79c4d-9b72-4b92-c8a6-832998634e57"
      },
      "execution_count": 9,
      "outputs": [
        {
          "output_type": "stream",
          "name": "stdout",
          "text": [
            "b'Tesla T4'\n"
          ]
        }
      ]
    },
    {
      "cell_type": "code",
      "source": [
        "print(device.compute_capability)"
      ],
      "metadata": {
        "colab": {
          "base_uri": "https://localhost:8080/"
        },
        "id": "cVbdez3hwmL6",
        "outputId": "d1091bd7-199a-4156-a77f-e39fce0e57f9"
      },
      "execution_count": 10,
      "outputs": [
        {
          "output_type": "stream",
          "name": "stdout",
          "text": [
            "(7, 5)\n"
          ]
        }
      ]
    },
    {
      "cell_type": "code",
      "source": [
        "print(device.MULTIPROCESSOR_COUNT)"
      ],
      "metadata": {
        "colab": {
          "base_uri": "https://localhost:8080/"
        },
        "id": "EMD1Ve_5wqWC",
        "outputId": "c9f3ac73-43c8-4a85-97b9-aa734553ed9e"
      },
      "execution_count": 11,
      "outputs": [
        {
          "output_type": "stream",
          "name": "stdout",
          "text": [
            "40\n"
          ]
        }
      ]
    },
    {
      "cell_type": "code",
      "source": [
        "# Number of cores per stream microprocessor based on compute capability\n",
        "cc_cores_per_SM_dict = {\n",
        "    (2,0) : 32,\n",
        "    (2,1) : 48,\n",
        "    (3,0) : 192,\n",
        "    (3,5) : 192,\n",
        "    (3,7) : 192,\n",
        "    (5,0) : 128,\n",
        "    (5,2) : 128,\n",
        "    (6,0) : 64,\n",
        "    (6,1) : 128,\n",
        "    (7,0) : 64,\n",
        "    (7,5) : 64,\n",
        "    (8,0) : 64,\n",
        "    (8,6) : 128,\n",
        "    (8,9) : 128,\n",
        "    (9,0) : 128,\n",
        "    (10,0) : 128,\n",
        "    (12,0) : 128\n",
        "    }\n",
        "my_sms = device.MULTIPROCESSOR_COUNT\n",
        "my_cc = device.compute_capability\n",
        "cores_per_sm = cc_cores_per_SM_dict.get(my_cc)\n",
        "total_cores = cores_per_sm*my_sms\n",
        "print(\"GPU compute capability: \" , my_cc)\n",
        "print(\"GPU total number of SMs: \" , my_sms)\n",
        "print(\"total cores: \" , total_cores)"
      ],
      "metadata": {
        "colab": {
          "base_uri": "https://localhost:8080/"
        },
        "id": "YNl4tRwfwtkH",
        "outputId": "5d116b2d-90dc-4e50-fc92-3baa2c66e3cc"
      },
      "execution_count": 12,
      "outputs": [
        {
          "output_type": "stream",
          "name": "stdout",
          "text": [
            "GPU compute capability:  (7, 5)\n",
            "GPU total number of SMs:  40\n",
            "total cores:  2560\n"
          ]
        }
      ]
    },
    {
      "cell_type": "code",
      "source": [
        "context = cuda.current_context(0)"
      ],
      "metadata": {
        "id": "7Ky3HZX20xMf"
      },
      "execution_count": 15,
      "outputs": []
    },
    {
      "cell_type": "code",
      "source": [
        "free, total = context.get_memory_info()\n",
        "\n",
        "print(\"Free Memory (in bytes):\", str(free))\n",
        "print(\"Memory size:\", str(total))"
      ],
      "metadata": {
        "colab": {
          "base_uri": "https://localhost:8080/"
        },
        "id": "VEeOTecb06eQ",
        "outputId": "f947be02-8225-4329-ecb7-58ecd5816499"
      },
      "execution_count": 21,
      "outputs": [
        {
          "output_type": "stream",
          "name": "stdout",
          "text": [
            "Free Memory (in bytes): 15718285312\n",
            "Memory size: 15828320256\n"
          ]
        }
      ]
    }
  ]
}